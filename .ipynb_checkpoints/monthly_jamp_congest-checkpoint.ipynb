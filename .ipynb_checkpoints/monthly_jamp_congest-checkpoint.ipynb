{
 "cells": [
  {
   "cell_type": "code",
   "execution_count": 3,
   "metadata": {
    "collapsed": true
   },
   "outputs": [],
   "source": [
    "import numpy as np\n",
    "import pandas as pd\n",
    "import jieba as jb\n",
    "import matplotlib.pyplot as plt\n",
    "%matplotlib inline\n",
    "import math\n",
    "import time\n",
    "import datetime\n",
    "import os\n",
    "import re\n",
    "import io\n",
    "import csv\n",
    "import shutil\n",
    "import sys\n",
    "import mysql.connector as sql\n",
    "from mysql.connector import MySQLConnection, Error\n",
    "default_stdout = sys.stdout\n",
    "default_stderr = sys.stderr\n",
    "reload(sys)\n",
    "sys.stdout = default_stdout\n",
    "sys.stderr = default_stderr\n",
    "sys.setdefaultencoding('utf-8')"
   ]
  },
  {
   "cell_type": "code",
   "execution_count": 5,
   "metadata": {
    "collapsed": false
   },
   "outputs": [],
   "source": [
    "pdbc = sql.connect(host='localhost', database='taipeiall', user='root', password='apple')\n",
    "\n",
    "\"\"\"\n",
    "\n",
    "select EQIPnumber,direct,YMD,hour,avgspeed,avgPercent from WVZLKH60 where YMD between \"2016-09-05\" and \"2016-09-11\";\n",
    "\"\"\"\n",
    "table=pd.read_sql(\"show tables;\",pdbc)\n",
    "tablelist = table.copy()\n",
    "tablelist=tablelist.ix[:,0].tolist()"
   ]
  },
  {
   "cell_type": "code",
   "execution_count": 6,
   "metadata": {
    "collapsed": false
   },
   "outputs": [],
   "source": [
    "tablelist=pd.DataFrame(tablelist)"
   ]
  },
  {
   "cell_type": "code",
   "execution_count": 34,
   "metadata": {
    "collapsed": false
   },
   "outputs": [],
   "source": [
    "\n",
    "tablelist.columns=['tablename']\n",
    "tablelist['vd'] = tablelist.ix[:,0].str[1:]\n",
    "tablelist['direct'] = tablelist.ix[:,0].str[:1]\n",
    "pattern= {'direct':{u'E':'東',u'W':'西',u'S':'南',u'N':'北',u'U':'未指定'}}\n",
    "tablelist=tablelist.replace(pattern,regex=True);\n",
    "tablelist.to_excel(\"DB.xlsx\",index = False)"
   ]
  },
  {
   "cell_type": "code",
   "execution_count": 35,
   "metadata": {
    "collapsed": true
   },
   "outputs": [],
   "source": [
    "vdinfodf = pd.read_excel(\"vd_real_info.xlsx\")"
   ]
  },
  {
   "cell_type": "code",
   "execution_count": 36,
   "metadata": {
    "collapsed": true
   },
   "outputs": [],
   "source": [
    "pattern= {'direct':{u'.?東$':'東',u'.?西$':'西',u'.?南$':'南',u'.?北$':'北',u'.向放置':'未指定'}}\n",
    "vdinfodf=vdinfodf.replace(pattern,regex=True);"
   ]
  },
  {
   "cell_type": "code",
   "execution_count": 39,
   "metadata": {
    "collapsed": false
   },
   "outputs": [],
   "source": [
    "vdinfodf[~(vdinfodf.vd.isin(tablelist.vd))].to_excel(\"vd_name_notgood.xlsx\",index=False)"
   ]
  },
  {
   "cell_type": "code",
   "execution_count": 52,
   "metadata": {
    "collapsed": false
   },
   "outputs": [
    {
     "name": "stdout",
     "output_type": "stream",
     "text": [
      "-1\n"
     ]
    }
   ],
   "source": [
    "ff = False\n",
    "\n",
    "print ~ff"
   ]
  },
  {
   "cell_type": "code",
   "execution_count": null,
   "metadata": {
    "collapsed": true
   },
   "outputs": [],
   "source": []
  },
  {
   "cell_type": "code",
   "execution_count": null,
   "metadata": {
    "collapsed": true
   },
   "outputs": [],
   "source": []
  },
  {
   "cell_type": "code",
   "execution_count": 12,
   "metadata": {
    "collapsed": true
   },
   "outputs": [],
   "source": [
    "'''query = \"\"\"select EQIPnumber,direct,YMD,hour,avgspeed,avgPercent \\\n",
    "from %s where YMD between \"2016-09-05\" and \"2016-09-11\";\"\"\"\n",
    "frames = []\n",
    "for i in tablelist:\n",
    "    temp=pd.read_sql(query%i,pdbc)\n",
    "    frames.append(temp)\n",
    "dbre=pd.concat(frames,ignore_index=True)\n",
    "dbresult = dbre.copy()\n",
    "dbresult.EQIPnumber = dbresult.EQIPnumber.str.decode('utf-8')\n",
    "dbresult.direct = dbresult.direct.str.decode('utf-8')\n",
    "dbresult.YMD = dbresult.YMD.str.decode('utf-8')\n",
    "dbresult.hour = dbresult.hour.str.decode('utf-8')\n",
    "dbresult['YMD']=pd.to_datetime(dbresult['YMD']);\n",
    "dbresult['weekday'] = dbresult['YMD'].dt.dayofweek;\n",
    "hour_to_num={'00:00:00':0,'01:00:00':1,'02:00:00':2,'03:00:00':3,'04:00:00':4,'05:00:00':5,'06:00:00':6,'07:00:00':7,'08:00:00':8,'09:00:00':9,'10:00:00':10,'11:00:00':11,'12:00:00':12,'13:00:00':13,'14:00:00':14,'15:00:00':15,'16:00:00':16,'17:00:00':17,'18:00:00':18,'19:00:00':19,'20:00:00':20,'21:00:00':21,'22:00:00':22,'23:00:00':23}\n",
    "\n",
    "pattern= {'direct':{u'.?東$':'E',u'.?西$':'W',u'.?南$':'S',u'.?北$':'N',u'.向放置':'U'},'hour':hour_to_num}\n",
    "dbresult=dbresult.replace(pattern,regex=True);\n",
    "dbresult=dbresult.drop('YMD',axis = 1)\n",
    "\n",
    "dbresult=dbresult.rename(index=str, columns={\"EQIPnumber\": \"vd\", \"hour\": \"time\", \\\n",
    "                                             \"avgspeed\": \"speed\", \"avgPercent\": \"accu\"})'''"
   ]
  },
  {
   "cell_type": "code",
   "execution_count": 152,
   "metadata": {
    "collapsed": false
   },
   "outputs": [],
   "source": []
  },
  {
   "cell_type": "code",
   "execution_count": 7,
   "metadata": {
    "collapsed": false
   },
   "outputs": [],
   "source": [
    "testcsv = pd.read_csv('cj20170227.csv')\n",
    "testcsv=testcsv.drop(testcsv.columns[[0]], axis=1)"
   ]
  },
  {
   "cell_type": "code",
   "execution_count": 8,
   "metadata": {
    "collapsed": false
   },
   "outputs": [],
   "source": [
    "#塞速度跟佔有率測試資料\n",
    "testcsv['speed']=pd.DataFrame({\"speed\":np.random.rand(len(testcsv.jampercent))*80})\n",
    "testcsv['accu']=pd.DataFrame({\"accu\":np.random.rand(len(testcsv.jampercent))*10})"
   ]
  },
  {
   "cell_type": "code",
   "execution_count": 218,
   "metadata": {
    "collapsed": false
   },
   "outputs": [],
   "source": [
    "# testcsv"
   ]
  },
  {
   "cell_type": "code",
   "execution_count": null,
   "metadata": {
    "collapsed": true
   },
   "outputs": [],
   "source": []
  },
  {
   "cell_type": "code",
   "execution_count": null,
   "metadata": {
    "collapsed": true
   },
   "outputs": [],
   "source": []
  },
  {
   "cell_type": "code",
   "execution_count": 41,
   "metadata": {
    "collapsed": true
   },
   "outputs": [],
   "source": [
    "def read_vd_info_excel(xls):\n",
    "    vd_info_excel_df=pd.read_excel(xls,encoding='utf-8');\n",
    "    vd_info_excel_dfc=vd_info_excel_df.copy()\n",
    "\n",
    "    pattern= {'direct':{u'.?東$':'東',u'.?西$':'西',u'.?南$':'南',u'.?北$':'北',u'.向放置':'未指定'}\\\n",
    "              ,'newdirect':{u'.?東.?':'東',u'.?西.?':'西',u'.?南.?':'南',u'.?北.?':'北',u'.向放置':'未指定'}}\n",
    "\n",
    "    vd_info_excel_dfc=vd_info_excel_dfc.replace(pattern,regex=True);\n",
    "    return vd_info_excel_dfc\n",
    "    \n",
    "\n",
    "\n",
    "def db_table_list(db_connection):\n",
    "    \n",
    "    # all table in trafficall Database\n",
    "    db_table_df=pd.read_sql('show tables;', con=db_connection)\n",
    "    db_table_dfc=db_table_df.copy()\n",
    "    db_table_dfc.columns=['tablename']\n",
    "    db_table_dfc['vd'] = db_table_dfc.ix[:,0].str[1:]\n",
    "    db_table_dfc['direct'] = db_table_dfc.ix[:,0].str[:1]\n",
    "    pattern= {'direct':{u'E':'東',u'W':'西',u'S':'南',u'N':'北',u'U':'未指定'}}\n",
    "    db_table_dfc=db_table_dfc.replace(pattern,regex=True);\n",
    "    return db_table_dfc\n",
    "\n",
    "def merge_table(pdbc,tempalte):\n",
    "    #把資料庫內的表的名稱全部拉出來，\n",
    "\n",
    "    tablename=db_table_list(pdbc)\n",
    "    print tablename.count()\n",
    "\n",
    "    # 這個excel檔，是有新的路名跟新的方向，要用此檔案呈現給客戶端。\n",
    "    vd_info_excel=read_vd_info_excel(tempalte)\n",
    "    print vd_info_excel.count()\n",
    "\n",
    "    #把這兩個檔案結合，按照VD編號跟舊方向，去做連接，產生的新表的表名，再回去DB做QUERY。\n",
    "    vd_match=pd.merge(vd_info_excel,tablename , on=['vd','direct'])\n",
    "    vd_match.sortby = vd_match.index\n",
    "    vd_matchc=vd_match.copy()\n",
    "    print vd_matchc.count()\n",
    "    vd_sortby_direct=vd_matchc.ix[:,['sortby','vd','direct']]\n",
    "    sortbylist=vd_matchc.sortby.tolist()\n",
    "    vd_table_list=vd_matchc.ix[:,'tablename'].tolist()\n",
    "    return vd_matchc,vd_sortby_direct,sortbylist,vd_table_list\n",
    " \n",
    "def query_table_out(table_list,vd_sortby_direct,db_connection):\n",
    "    def decode_to_utf8(df):\n",
    "        df.EQIPnumber=df.EQIPnumber.str.decode(\"utf-8\")\n",
    "        df.location=df.location.str.decode(\"utf-8\")\n",
    "        df.direct=df.direct.str.decode(\"utf-8\")\n",
    "        df.YMD=df.YMD.str.decode(\"utf-8\")\n",
    "        df.hour=df.hour.str.decode(\"utf-8\")\n",
    "        return df\n",
    "    import time\n",
    "    tStart = time.time()\n",
    "    frames = []\n",
    "    for ele in table_list:\n",
    "        frames.append(pd.read_sql('SELECT * FROM {r}'.format(r=ele), con=db_connection))\n",
    "\n",
    "    result = pd.concat(frames, ignore_index=True)\n",
    "\n",
    "    df_all=decode_to_utf8(result) \n",
    "        \n",
    "    df_all=df_all.drop(['scooterflow','truckflow','addTotal','carflow','avgCarSpace','laneNumber'],axis=1)\n",
    "    hour_to_num={'00:00:00':0,'01:00:00':1,'02:00:00':2,'03:00:00':3,'04:00:00':4,'05:00:00':5,'06:00:00':6,'07:00:00':7,'08:00:00':8,'09:00:00':9,'10:00:00':10,'11:00:00':11,'12:00:00':12,'13:00:00':13,'14:00:00':14,'15:00:00':15,'16:00:00':16,'17:00:00':17,'18:00:00':18,'19:00:00':19,'20:00:00':20,'21:00:00':21,'22:00:00':22,'23:00:00':23}\n",
    "\n",
    "    pattern= {'direct':{u'.?東$':'東',u'.?西$':'西',u'.?南$':'南',u'.?北$':'北',u'.向放置':'未指定'},'hour':hour_to_num}\n",
    "    df_all=df_all.replace(pattern,regex=True);\n",
    "    df_all['YMD']=pd.to_datetime(df_all['YMD']);\n",
    "    df_all['weekday'] = df_all['YMD'].dt.dayofweek;\n",
    "    df_all.columns = ['vd','location','direct','YMD','time','eq','speed','accu','weekday']\n",
    "    vd_data_sortby=pd.merge(vd_sortby_direct, df_all, on=['vd','direct'])\n",
    "    \n",
    "    tEnd = time.time()\n",
    "    print \"It cost %f sec\" % (tEnd - tStart)\n",
    "    return vd_data_sortby\n",
    "\n",
    "\n",
    "# def jamp_tamplate(sortbylist,vd_match_merge,predict_template,vd_data_sortby):\n",
    "#     tempframe = []\n",
    "#     import time\n",
    "#     tStart = time.time()\n",
    "#     for i in sortbylist:\n",
    "#         print i\n",
    "#         template = predict_template.copy()\n",
    "#         wwp=vd_data_sortby.where(vd_data_sortby.sortby==i).dropna().copy()\n",
    "#         sp4=wwp.speed.quantile(0.4);sp4\n",
    "#         wwpcjam=wwp.where((wwp.speed<sp4)&(wwp.accu>5)).dropna().copy()\n",
    "#         template.ix[:,'sortby']=i;\n",
    "#         for dd,tt in template[['weekday','time']].values.tolist():\n",
    "#             alldaynum=wwp[(wwp.weekday==dd)&(wwp.time==tt)].count()[0]\n",
    "#             jamdaynum=wwpcjam[(wwpcjam.weekday==dd)&(wwpcjam.time==tt)].count()[0]\n",
    "#             if alldaynum==0:\n",
    "#                 template.ix[(template.time==tt)&(template.weekday==dd),'jamp']=0\n",
    "#             else:\n",
    "#                 template.ix[(template.time==tt)&(template.weekday==dd),'jamp']=round((float(jamdaynum)/alldaynum),4);\n",
    "#         tempframe.append(pd.merge(template,vd_match_merge,on=['sortby'],copy=False))\n",
    "    \n",
    "#     nhzctest=pd.concat(tempframe, ignore_index=True);\n",
    "#     nhzctest=nhzctest.rename(index=str,columns= {'jamp':'jampercent','newdirect':'direction'})\n",
    "#     tEnd = time.time()\n",
    "#     print \"It cost %f sec\" % (tEnd - tStart)\n",
    "#     return nhzctest"
   ]
  },
  {
   "cell_type": "code",
   "execution_count": null,
   "metadata": {
    "collapsed": true
   },
   "outputs": [],
   "source": []
  },
  {
   "cell_type": "code",
   "execution_count": null,
   "metadata": {
    "collapsed": false
   },
   "outputs": [],
   "source": []
  },
  {
   "cell_type": "code",
   "execution_count": 12,
   "metadata": {
    "collapsed": false
   },
   "outputs": [
    {
     "name": "stdout",
     "output_type": "stream",
     "text": [
      "tablename    853\n",
      "vd           853\n",
      "direct       853\n",
      "dtype: int64\n",
      "vd           714\n",
      "direct       714\n",
      "newdirect    714\n",
      "road         714\n",
      "position     714\n",
      "district     714\n",
      "city         714\n",
      "sortby         0\n",
      "dtype: int64\n",
      "vd           657\n",
      "direct       657\n",
      "newdirect    657\n",
      "road         657\n",
      "position     657\n",
      "district     657\n",
      "city         657\n",
      "sortby       657\n",
      "tablename    657\n",
      "dtype: int64\n",
      "It cost 3574.860327 sec\n"
     ]
    }
   ],
   "source": [
    "pdbc = sql.connect(host='localhost', database='taipeiall', user='root', password='apple')\n",
    "excel='vd_real_info.xlsx'\n",
    "predict_template=pd.read_excel('predict_template.xlsx',encoding='utf-8');\n",
    "\n",
    "vd_match_merge,vd_sortby_direct,sortbylist,vd_table_list = merge_table(pdbc,excel)\n",
    "\n",
    "vd_data_sortby = query_table_out(vd_table_list,vd_sortby_direct,pdbc)\n",
    "\n",
    "# vd_jamp_template=jamp_tamplate(sortbylist,vd_match_merge,predict_template,vd_data_sortby)\n",
    "\n"
   ]
  },
  {
   "cell_type": "code",
   "execution_count": 14,
   "metadata": {
    "collapsed": false
   },
   "outputs": [],
   "source": [
    "vd_data_sortby"
   ]
  },
  {
   "cell_type": "code",
   "execution_count": 15,
   "metadata": {
    "collapsed": false
   },
   "outputs": [],
   "source": [
    "sortbylist=testcsv.sortby.unique().tolist()"
   ]
  },
  {
   "cell_type": "code",
   "execution_count": 37,
   "metadata": {
    "collapsed": false
   },
   "outputs": [
    {
     "name": "stdout",
     "output_type": "stream",
     "text": [
      "It cost 6.116850 sec\n"
     ]
    }
   ],
   "source": [
    "# 雍塞度需要公式，要在與塞車率融合\n",
    "\n",
    "template = predict_template.copy()\n",
    "import time\n",
    "tStart = time.time()\n",
    "# for i in sortbylist:\n",
    "#     print i\n",
    "i=3\n",
    "wwp=vd_data_sortby.where(vd_data_sortby.sortby==i).dropna().copy()\n",
    "sp4=wwp.speed.quantile(0.4);sp4\n",
    "\n",
    "\n",
    "#擁塞度需要\n",
    "speed_min = wwp.speed.min()\n",
    "accu_max = wwp.accu.max()\n",
    "accu_lenth = accu_max - 5\n",
    "speed_lenth = sp4 - speed_min\n",
    "\n",
    "for dd,tt in template[['weekday','time']].values.tolist():\n",
    "    # 條件判斷 \n",
    "    condition_sort =(testcsv.sortby==i)&(testcsv.time==tt)&(testcsv.weekday==dd)\n",
    "#     print (dd,tt)\n",
    "    if  len(testcsv.ix[condition_sort,'accu'].values) ==1:\n",
    "        predict_accu = testcsv.ix[condition_sort,'accu'].values[0]\n",
    "        predict_speed = testcsv.ix[condition_sort,'speed'].values[0]\n",
    "        #算雍塞度\n",
    "        xp = predict_accu - 5\n",
    "        yp = sp4 - predict_speed \n",
    "        congestion = (xp/accu_lenth)/2+(yp/speed_lenth)/2\n",
    "        # 條件判斷：如果預測值超出塞車範圍，就是比歷史資料還塞，就叫雍塞度為100%\n",
    "        if ((predict_speed<sp4)&(predict_accu>accu_max))or((predict_speed<speed_min)&(predict_accu>5)):\n",
    "            testcsv.ix[condition_sort,'congest']=1\n",
    "        elif (accu_max>predict_accu>5)&(speed_min<predict_speed<sp4):\n",
    "            testcsv.ix[condition_sort,'congest']=round(congestion,4)\n",
    "        \n",
    "\n",
    "tEnd = time.time()\n",
    "print \"It cost %f sec\" % (tEnd - tStart)\n"
   ]
  },
  {
   "cell_type": "code",
   "execution_count": null,
   "metadata": {
    "collapsed": true
   },
   "outputs": [],
   "source": [
    "\n",
    "def jamp_tamplate(sortbylist,vd_match_merge,predict_template,vd_data_sortby):\n",
    "    tempframe = []\n",
    "    import time\n",
    "    tStart = time.time()\n",
    "    for i in sortbylist:\n",
    "        print i\n",
    "        template = predict_template.copy()\n",
    "        # random value for template\n",
    "        template['speed']=pd.DataFrame({\"speed\":np.random.rand(len(template.congest))*80})\n",
    "        template['accu']=pd.DataFrame({\"accu\":np.random.rand(len(template.congest))*10})\n",
    "        \n",
    "        \n",
    "        \n",
    "        wwp=vd_data_sortby.where(vd_data_sortby.sortby==i).dropna().copy()\n",
    "        sp4=wwp.speed.quantile(0.4);sp4\n",
    "        \n",
    "        #擁塞度需要變數\n",
    "        speed_min = wwp.speed.min()\n",
    "        accu_max = wwp.accu.max()\n",
    "        accu_lenth = accu_max - 5\n",
    "        speed_lenth = sp4 - speed_min\n",
    "\n",
    "        wwpcjam=wwp.where((wwp.speed<sp4)&(wwp.accu>5)).dropna().copy()\n",
    "        template.ix[:,'sortby']=i;\n",
    "        for dd,tt in template[['weekday','time']].values.tolist():\n",
    "            # 雍塞度需要之條件判斷 \n",
    "            condition_sort =(template.sortby==i)&(template.time==tt)&(template.weekday==dd)\n",
    "            # 塞車率\n",
    "            alldaynum=wwp[(wwp.weekday==dd)&(wwp.time==tt)].count()[0]\n",
    "            jamdaynum=wwpcjam[(wwpcjam.weekday==dd)&(wwpcjam.time==tt)].count()[0]\n",
    "            if alldaynum==0:\n",
    "                template.ix[(template.time==tt)&(template.weekday==dd),'jamp']=0\n",
    "            else:\n",
    "                template.ix[(template.time==tt)&(template.weekday==dd),'jamp']=round((float(jamdaynum)/alldaynum),4);\n",
    "            if  len(template.ix[condition_sort,'accu'].values) ==1:\n",
    "                predict_accu = template.ix[condition_sort,'accu'].values[0]\n",
    "                predict_speed = template.ix[condition_sort,'speed'].values[0]\n",
    "                #算雍塞度\n",
    "                xp = predict_accu - 5\n",
    "                yp = sp4 - predict_speed \n",
    "                congestion = (xp/accu_lenth)/2+(yp/speed_lenth)/2\n",
    "                # 條件判斷：如果預測值超出塞車範圍，就是比歷史資料還塞，就叫雍塞度為100%\n",
    "                if ((predict_speed<sp4)&(predict_accu>accu_max))or((predict_speed<speed_min)&(predict_accu>5)):\n",
    "                    template.ix[condition_sort,'congest']=1\n",
    "                elif (accu_max>predict_accu>5)&(speed_min<predict_speed<sp4):\n",
    "                    template.ix[condition_sort,'congest']=round(congestion,4)    \n",
    "                \n",
    "            \n",
    "        tempframe.append(pd.merge(template,vd_match_merge,on=['sortby'],copy=False))\n",
    "    \n",
    "    nhzctest=pd.concat(tempframe, ignore_index=True);\n",
    "    nhzctest=nhzctest.rename(index=str,columns= {'jamp':'jampercent','newdirect':'direction'})\n",
    "    tEnd = time.time()\n",
    "    print \"It cost %f sec\" % (tEnd - tStart)\n",
    "    return nhzctest"
   ]
  },
  {
   "cell_type": "code",
   "execution_count": null,
   "metadata": {
    "collapsed": true
   },
   "outputs": [],
   "source": []
  },
  {
   "cell_type": "code",
   "execution_count": null,
   "metadata": {
    "collapsed": true
   },
   "outputs": [],
   "source": []
  },
  {
   "cell_type": "code",
   "execution_count": 38,
   "metadata": {
    "collapsed": false
   },
   "outputs": [
    {
     "name": "stdout",
     "output_type": "stream",
     "text": [
      "1\n"
     ]
    }
   ],
   "source": [
    "condition_sort =(testcsv.sortby==3)&(testcsv.time==6)&(testcsv.weekday==3)\n",
    "print len(testcsv.ix[condition_sort].values)"
   ]
  },
  {
   "cell_type": "code",
   "execution_count": 39,
   "metadata": {
    "collapsed": false
   },
   "outputs": [
    {
     "data": {
      "text/html": [
       "<div>\n",
       "<table border=\"1\" class=\"dataframe\">\n",
       "  <thead>\n",
       "    <tr style=\"text-align: right;\">\n",
       "      <th></th>\n",
       "      <th>sortby</th>\n",
       "      <th>weekday</th>\n",
       "      <th>time</th>\n",
       "      <th>jampercent</th>\n",
       "      <th>vd</th>\n",
       "      <th>direction</th>\n",
       "      <th>road</th>\n",
       "      <th>position</th>\n",
       "      <th>district</th>\n",
       "      <th>city</th>\n",
       "      <th>tablename</th>\n",
       "      <th>congest</th>\n",
       "      <th>direct</th>\n",
       "      <th>speed</th>\n",
       "      <th>accu</th>\n",
       "    </tr>\n",
       "  </thead>\n",
       "  <tbody>\n",
       "    <tr>\n",
       "      <th>582</th>\n",
       "      <td>3</td>\n",
       "      <td>3</td>\n",
       "      <td>6</td>\n",
       "      <td>0.0</td>\n",
       "      <td>V0150C1</td>\n",
       "      <td>東</td>\n",
       "      <td>市民大道高架</td>\n",
       "      <td>市高敦化西側往東</td>\n",
       "      <td>Daan</td>\n",
       "      <td>Teipai</td>\n",
       "      <td>UV0150C1</td>\n",
       "      <td>1.0</td>\n",
       "      <td>U</td>\n",
       "      <td>8.726877</td>\n",
       "      <td>4.377506</td>\n",
       "    </tr>\n",
       "  </tbody>\n",
       "</table>\n",
       "</div>"
      ],
      "text/plain": [
       "     sortby  weekday  time  jampercent       vd direction    road  position  \\\n",
       "582       3        3     6         0.0  V0150C1         東  市民大道高架  市高敦化西側往東   \n",
       "\n",
       "    district    city tablename  congest direct     speed      accu  \n",
       "582    Daan   Teipai  UV0150C1      1.0      U  8.726877  4.377506  "
      ]
     },
     "execution_count": 39,
     "metadata": {},
     "output_type": "execute_result"
    }
   ],
   "source": [
    "testcsv.ix[condition_sort]"
   ]
  },
  {
   "cell_type": "code",
   "execution_count": 40,
   "metadata": {
    "collapsed": false
   },
   "outputs": [
    {
     "data": {
      "text/html": [
       "<div>\n",
       "<table border=\"1\" class=\"dataframe\">\n",
       "  <thead>\n",
       "    <tr style=\"text-align: right;\">\n",
       "      <th></th>\n",
       "      <th>sortby</th>\n",
       "      <th>weekday</th>\n",
       "      <th>time</th>\n",
       "      <th>jampercent</th>\n",
       "      <th>vd</th>\n",
       "      <th>direction</th>\n",
       "      <th>road</th>\n",
       "      <th>position</th>\n",
       "      <th>district</th>\n",
       "      <th>city</th>\n",
       "      <th>tablename</th>\n",
       "      <th>congest</th>\n",
       "      <th>direct</th>\n",
       "      <th>speed</th>\n",
       "      <th>accu</th>\n",
       "    </tr>\n",
       "  </thead>\n",
       "  <tbody>\n",
       "    <tr>\n",
       "      <th>576</th>\n",
       "      <td>3</td>\n",
       "      <td>3</td>\n",
       "      <td>0</td>\n",
       "      <td>0.0000</td>\n",
       "      <td>V0150C1</td>\n",
       "      <td>東</td>\n",
       "      <td>市民大道高架</td>\n",
       "      <td>市高敦化西側往東</td>\n",
       "      <td>Daan</td>\n",
       "      <td>Teipai</td>\n",
       "      <td>UV0150C1</td>\n",
       "      <td>0.0657</td>\n",
       "      <td>U</td>\n",
       "      <td>60.370755</td>\n",
       "      <td>6.204965</td>\n",
       "    </tr>\n",
       "    <tr>\n",
       "      <th>577</th>\n",
       "      <td>3</td>\n",
       "      <td>3</td>\n",
       "      <td>1</td>\n",
       "      <td>0.0000</td>\n",
       "      <td>V0150C1</td>\n",
       "      <td>東</td>\n",
       "      <td>市民大道高架</td>\n",
       "      <td>市高敦化西側往東</td>\n",
       "      <td>Daan</td>\n",
       "      <td>Teipai</td>\n",
       "      <td>UV0150C1</td>\n",
       "      <td>0.0000</td>\n",
       "      <td>U</td>\n",
       "      <td>69.828688</td>\n",
       "      <td>8.056646</td>\n",
       "    </tr>\n",
       "    <tr>\n",
       "      <th>578</th>\n",
       "      <td>3</td>\n",
       "      <td>3</td>\n",
       "      <td>2</td>\n",
       "      <td>0.0000</td>\n",
       "      <td>V0150C1</td>\n",
       "      <td>東</td>\n",
       "      <td>市民大道高架</td>\n",
       "      <td>市高敦化西側往東</td>\n",
       "      <td>Daan</td>\n",
       "      <td>Teipai</td>\n",
       "      <td>UV0150C1</td>\n",
       "      <td>0.0000</td>\n",
       "      <td>U</td>\n",
       "      <td>71.755578</td>\n",
       "      <td>0.883727</td>\n",
       "    </tr>\n",
       "    <tr>\n",
       "      <th>579</th>\n",
       "      <td>3</td>\n",
       "      <td>3</td>\n",
       "      <td>3</td>\n",
       "      <td>0.0000</td>\n",
       "      <td>V0150C1</td>\n",
       "      <td>東</td>\n",
       "      <td>市民大道高架</td>\n",
       "      <td>市高敦化西側往東</td>\n",
       "      <td>Daan</td>\n",
       "      <td>Teipai</td>\n",
       "      <td>UV0150C1</td>\n",
       "      <td>0.0000</td>\n",
       "      <td>U</td>\n",
       "      <td>51.716580</td>\n",
       "      <td>3.597427</td>\n",
       "    </tr>\n",
       "    <tr>\n",
       "      <th>580</th>\n",
       "      <td>3</td>\n",
       "      <td>3</td>\n",
       "      <td>4</td>\n",
       "      <td>0.0000</td>\n",
       "      <td>V0150C1</td>\n",
       "      <td>東</td>\n",
       "      <td>市民大道高架</td>\n",
       "      <td>市高敦化西側往東</td>\n",
       "      <td>Daan</td>\n",
       "      <td>Teipai</td>\n",
       "      <td>UV0150C1</td>\n",
       "      <td>0.0000</td>\n",
       "      <td>U</td>\n",
       "      <td>41.040880</td>\n",
       "      <td>4.684620</td>\n",
       "    </tr>\n",
       "    <tr>\n",
       "      <th>581</th>\n",
       "      <td>3</td>\n",
       "      <td>3</td>\n",
       "      <td>5</td>\n",
       "      <td>0.0000</td>\n",
       "      <td>V0150C1</td>\n",
       "      <td>東</td>\n",
       "      <td>市民大道高架</td>\n",
       "      <td>市高敦化西側往東</td>\n",
       "      <td>Daan</td>\n",
       "      <td>Teipai</td>\n",
       "      <td>UV0150C1</td>\n",
       "      <td>1.0000</td>\n",
       "      <td>U</td>\n",
       "      <td>9.255937</td>\n",
       "      <td>7.609841</td>\n",
       "    </tr>\n",
       "    <tr>\n",
       "      <th>582</th>\n",
       "      <td>3</td>\n",
       "      <td>3</td>\n",
       "      <td>6</td>\n",
       "      <td>0.0000</td>\n",
       "      <td>V0150C1</td>\n",
       "      <td>東</td>\n",
       "      <td>市民大道高架</td>\n",
       "      <td>市高敦化西側往東</td>\n",
       "      <td>Daan</td>\n",
       "      <td>Teipai</td>\n",
       "      <td>UV0150C1</td>\n",
       "      <td>1.0000</td>\n",
       "      <td>U</td>\n",
       "      <td>8.726877</td>\n",
       "      <td>4.377506</td>\n",
       "    </tr>\n",
       "    <tr>\n",
       "      <th>583</th>\n",
       "      <td>3</td>\n",
       "      <td>3</td>\n",
       "      <td>7</td>\n",
       "      <td>0.0000</td>\n",
       "      <td>V0150C1</td>\n",
       "      <td>東</td>\n",
       "      <td>市民大道高架</td>\n",
       "      <td>市高敦化西側往東</td>\n",
       "      <td>Daan</td>\n",
       "      <td>Teipai</td>\n",
       "      <td>UV0150C1</td>\n",
       "      <td>0.0000</td>\n",
       "      <td>U</td>\n",
       "      <td>47.065538</td>\n",
       "      <td>0.356540</td>\n",
       "    </tr>\n",
       "    <tr>\n",
       "      <th>584</th>\n",
       "      <td>3</td>\n",
       "      <td>3</td>\n",
       "      <td>8</td>\n",
       "      <td>0.1750</td>\n",
       "      <td>V0150C1</td>\n",
       "      <td>東</td>\n",
       "      <td>市民大道高架</td>\n",
       "      <td>市高敦化西側往東</td>\n",
       "      <td>Daan</td>\n",
       "      <td>Teipai</td>\n",
       "      <td>UV0150C1</td>\n",
       "      <td>0.0000</td>\n",
       "      <td>U</td>\n",
       "      <td>31.374524</td>\n",
       "      <td>1.294783</td>\n",
       "    </tr>\n",
       "    <tr>\n",
       "      <th>585</th>\n",
       "      <td>3</td>\n",
       "      <td>3</td>\n",
       "      <td>9</td>\n",
       "      <td>0.9250</td>\n",
       "      <td>V0150C1</td>\n",
       "      <td>東</td>\n",
       "      <td>市民大道高架</td>\n",
       "      <td>市高敦化西側往東</td>\n",
       "      <td>Daan</td>\n",
       "      <td>Teipai</td>\n",
       "      <td>UV0150C1</td>\n",
       "      <td>1.0000</td>\n",
       "      <td>U</td>\n",
       "      <td>2.406561</td>\n",
       "      <td>7.871659</td>\n",
       "    </tr>\n",
       "    <tr>\n",
       "      <th>586</th>\n",
       "      <td>3</td>\n",
       "      <td>3</td>\n",
       "      <td>10</td>\n",
       "      <td>0.5122</td>\n",
       "      <td>V0150C1</td>\n",
       "      <td>東</td>\n",
       "      <td>市民大道高架</td>\n",
       "      <td>市高敦化西側往東</td>\n",
       "      <td>Daan</td>\n",
       "      <td>Teipai</td>\n",
       "      <td>UV0150C1</td>\n",
       "      <td>0.3906</td>\n",
       "      <td>U</td>\n",
       "      <td>35.068465</td>\n",
       "      <td>8.471149</td>\n",
       "    </tr>\n",
       "    <tr>\n",
       "      <th>587</th>\n",
       "      <td>3</td>\n",
       "      <td>3</td>\n",
       "      <td>11</td>\n",
       "      <td>0.1667</td>\n",
       "      <td>V0150C1</td>\n",
       "      <td>東</td>\n",
       "      <td>市民大道高架</td>\n",
       "      <td>市高敦化西側往東</td>\n",
       "      <td>Daan</td>\n",
       "      <td>Teipai</td>\n",
       "      <td>UV0150C1</td>\n",
       "      <td>1.0000</td>\n",
       "      <td>U</td>\n",
       "      <td>8.323017</td>\n",
       "      <td>3.582221</td>\n",
       "    </tr>\n",
       "    <tr>\n",
       "      <th>588</th>\n",
       "      <td>3</td>\n",
       "      <td>3</td>\n",
       "      <td>12</td>\n",
       "      <td>0.0238</td>\n",
       "      <td>V0150C1</td>\n",
       "      <td>東</td>\n",
       "      <td>市民大道高架</td>\n",
       "      <td>市高敦化西側往東</td>\n",
       "      <td>Daan</td>\n",
       "      <td>Teipai</td>\n",
       "      <td>UV0150C1</td>\n",
       "      <td>0.0000</td>\n",
       "      <td>U</td>\n",
       "      <td>76.268053</td>\n",
       "      <td>8.956132</td>\n",
       "    </tr>\n",
       "    <tr>\n",
       "      <th>589</th>\n",
       "      <td>3</td>\n",
       "      <td>3</td>\n",
       "      <td>13</td>\n",
       "      <td>0.0000</td>\n",
       "      <td>V0150C1</td>\n",
       "      <td>東</td>\n",
       "      <td>市民大道高架</td>\n",
       "      <td>市高敦化西側往東</td>\n",
       "      <td>Daan</td>\n",
       "      <td>Teipai</td>\n",
       "      <td>UV0150C1</td>\n",
       "      <td>0.0000</td>\n",
       "      <td>U</td>\n",
       "      <td>43.240155</td>\n",
       "      <td>1.155375</td>\n",
       "    </tr>\n",
       "    <tr>\n",
       "      <th>590</th>\n",
       "      <td>3</td>\n",
       "      <td>3</td>\n",
       "      <td>14</td>\n",
       "      <td>0.0000</td>\n",
       "      <td>V0150C1</td>\n",
       "      <td>東</td>\n",
       "      <td>市民大道高架</td>\n",
       "      <td>市高敦化西側往東</td>\n",
       "      <td>Daan</td>\n",
       "      <td>Teipai</td>\n",
       "      <td>UV0150C1</td>\n",
       "      <td>1.0000</td>\n",
       "      <td>U</td>\n",
       "      <td>18.806160</td>\n",
       "      <td>9.404988</td>\n",
       "    </tr>\n",
       "    <tr>\n",
       "      <th>591</th>\n",
       "      <td>3</td>\n",
       "      <td>3</td>\n",
       "      <td>15</td>\n",
       "      <td>0.0000</td>\n",
       "      <td>V0150C1</td>\n",
       "      <td>東</td>\n",
       "      <td>市民大道高架</td>\n",
       "      <td>市高敦化西側往東</td>\n",
       "      <td>Daan</td>\n",
       "      <td>Teipai</td>\n",
       "      <td>UV0150C1</td>\n",
       "      <td>1.0000</td>\n",
       "      <td>U</td>\n",
       "      <td>3.008037</td>\n",
       "      <td>8.126565</td>\n",
       "    </tr>\n",
       "    <tr>\n",
       "      <th>592</th>\n",
       "      <td>3</td>\n",
       "      <td>3</td>\n",
       "      <td>16</td>\n",
       "      <td>0.0000</td>\n",
       "      <td>V0150C1</td>\n",
       "      <td>東</td>\n",
       "      <td>市民大道高架</td>\n",
       "      <td>市高敦化西側往東</td>\n",
       "      <td>Daan</td>\n",
       "      <td>Teipai</td>\n",
       "      <td>UV0150C1</td>\n",
       "      <td>0.0000</td>\n",
       "      <td>U</td>\n",
       "      <td>59.184543</td>\n",
       "      <td>3.086794</td>\n",
       "    </tr>\n",
       "    <tr>\n",
       "      <th>593</th>\n",
       "      <td>3</td>\n",
       "      <td>3</td>\n",
       "      <td>17</td>\n",
       "      <td>0.0233</td>\n",
       "      <td>V0150C1</td>\n",
       "      <td>東</td>\n",
       "      <td>市民大道高架</td>\n",
       "      <td>市高敦化西側往東</td>\n",
       "      <td>Daan</td>\n",
       "      <td>Teipai</td>\n",
       "      <td>UV0150C1</td>\n",
       "      <td>1.0000</td>\n",
       "      <td>U</td>\n",
       "      <td>17.413226</td>\n",
       "      <td>5.759523</td>\n",
       "    </tr>\n",
       "    <tr>\n",
       "      <th>594</th>\n",
       "      <td>3</td>\n",
       "      <td>3</td>\n",
       "      <td>18</td>\n",
       "      <td>0.2791</td>\n",
       "      <td>V0150C1</td>\n",
       "      <td>東</td>\n",
       "      <td>市民大道高架</td>\n",
       "      <td>市高敦化西側往東</td>\n",
       "      <td>Daan</td>\n",
       "      <td>Teipai</td>\n",
       "      <td>UV0150C1</td>\n",
       "      <td>0.3341</td>\n",
       "      <td>U</td>\n",
       "      <td>38.961897</td>\n",
       "      <td>7.682922</td>\n",
       "    </tr>\n",
       "    <tr>\n",
       "      <th>595</th>\n",
       "      <td>3</td>\n",
       "      <td>3</td>\n",
       "      <td>19</td>\n",
       "      <td>0.6744</td>\n",
       "      <td>V0150C1</td>\n",
       "      <td>東</td>\n",
       "      <td>市民大道高架</td>\n",
       "      <td>市高敦化西側往東</td>\n",
       "      <td>Daan</td>\n",
       "      <td>Teipai</td>\n",
       "      <td>UV0150C1</td>\n",
       "      <td>0.0000</td>\n",
       "      <td>U</td>\n",
       "      <td>67.341692</td>\n",
       "      <td>2.286811</td>\n",
       "    </tr>\n",
       "    <tr>\n",
       "      <th>596</th>\n",
       "      <td>3</td>\n",
       "      <td>3</td>\n",
       "      <td>20</td>\n",
       "      <td>0.8140</td>\n",
       "      <td>V0150C1</td>\n",
       "      <td>東</td>\n",
       "      <td>市民大道高架</td>\n",
       "      <td>市高敦化西側往東</td>\n",
       "      <td>Daan</td>\n",
       "      <td>Teipai</td>\n",
       "      <td>UV0150C1</td>\n",
       "      <td>0.1721</td>\n",
       "      <td>U</td>\n",
       "      <td>51.128874</td>\n",
       "      <td>6.193482</td>\n",
       "    </tr>\n",
       "    <tr>\n",
       "      <th>597</th>\n",
       "      <td>3</td>\n",
       "      <td>3</td>\n",
       "      <td>21</td>\n",
       "      <td>0.3953</td>\n",
       "      <td>V0150C1</td>\n",
       "      <td>東</td>\n",
       "      <td>市民大道高架</td>\n",
       "      <td>市高敦化西側往東</td>\n",
       "      <td>Daan</td>\n",
       "      <td>Teipai</td>\n",
       "      <td>UV0150C1</td>\n",
       "      <td>0.3320</td>\n",
       "      <td>U</td>\n",
       "      <td>36.735163</td>\n",
       "      <td>5.781888</td>\n",
       "    </tr>\n",
       "    <tr>\n",
       "      <th>598</th>\n",
       "      <td>3</td>\n",
       "      <td>3</td>\n",
       "      <td>22</td>\n",
       "      <td>0.4651</td>\n",
       "      <td>V0150C1</td>\n",
       "      <td>東</td>\n",
       "      <td>市民大道高架</td>\n",
       "      <td>市高敦化西側往東</td>\n",
       "      <td>Daan</td>\n",
       "      <td>Teipai</td>\n",
       "      <td>UV0150C1</td>\n",
       "      <td>1.0000</td>\n",
       "      <td>U</td>\n",
       "      <td>9.190307</td>\n",
       "      <td>5.576215</td>\n",
       "    </tr>\n",
       "    <tr>\n",
       "      <th>599</th>\n",
       "      <td>3</td>\n",
       "      <td>3</td>\n",
       "      <td>23</td>\n",
       "      <td>0.2791</td>\n",
       "      <td>V0150C1</td>\n",
       "      <td>東</td>\n",
       "      <td>市民大道高架</td>\n",
       "      <td>市高敦化西側往東</td>\n",
       "      <td>Daan</td>\n",
       "      <td>Teipai</td>\n",
       "      <td>UV0150C1</td>\n",
       "      <td>0.0000</td>\n",
       "      <td>U</td>\n",
       "      <td>76.029371</td>\n",
       "      <td>2.407189</td>\n",
       "    </tr>\n",
       "  </tbody>\n",
       "</table>\n",
       "</div>"
      ],
      "text/plain": [
       "     sortby  weekday  time  jampercent       vd direction    road  position  \\\n",
       "576       3        3     0      0.0000  V0150C1         東  市民大道高架  市高敦化西側往東   \n",
       "577       3        3     1      0.0000  V0150C1         東  市民大道高架  市高敦化西側往東   \n",
       "578       3        3     2      0.0000  V0150C1         東  市民大道高架  市高敦化西側往東   \n",
       "579       3        3     3      0.0000  V0150C1         東  市民大道高架  市高敦化西側往東   \n",
       "580       3        3     4      0.0000  V0150C1         東  市民大道高架  市高敦化西側往東   \n",
       "581       3        3     5      0.0000  V0150C1         東  市民大道高架  市高敦化西側往東   \n",
       "582       3        3     6      0.0000  V0150C1         東  市民大道高架  市高敦化西側往東   \n",
       "583       3        3     7      0.0000  V0150C1         東  市民大道高架  市高敦化西側往東   \n",
       "584       3        3     8      0.1750  V0150C1         東  市民大道高架  市高敦化西側往東   \n",
       "585       3        3     9      0.9250  V0150C1         東  市民大道高架  市高敦化西側往東   \n",
       "586       3        3    10      0.5122  V0150C1         東  市民大道高架  市高敦化西側往東   \n",
       "587       3        3    11      0.1667  V0150C1         東  市民大道高架  市高敦化西側往東   \n",
       "588       3        3    12      0.0238  V0150C1         東  市民大道高架  市高敦化西側往東   \n",
       "589       3        3    13      0.0000  V0150C1         東  市民大道高架  市高敦化西側往東   \n",
       "590       3        3    14      0.0000  V0150C1         東  市民大道高架  市高敦化西側往東   \n",
       "591       3        3    15      0.0000  V0150C1         東  市民大道高架  市高敦化西側往東   \n",
       "592       3        3    16      0.0000  V0150C1         東  市民大道高架  市高敦化西側往東   \n",
       "593       3        3    17      0.0233  V0150C1         東  市民大道高架  市高敦化西側往東   \n",
       "594       3        3    18      0.2791  V0150C1         東  市民大道高架  市高敦化西側往東   \n",
       "595       3        3    19      0.6744  V0150C1         東  市民大道高架  市高敦化西側往東   \n",
       "596       3        3    20      0.8140  V0150C1         東  市民大道高架  市高敦化西側往東   \n",
       "597       3        3    21      0.3953  V0150C1         東  市民大道高架  市高敦化西側往東   \n",
       "598       3        3    22      0.4651  V0150C1         東  市民大道高架  市高敦化西側往東   \n",
       "599       3        3    23      0.2791  V0150C1         東  市民大道高架  市高敦化西側往東   \n",
       "\n",
       "    district    city tablename  congest direct      speed      accu  \n",
       "576    Daan   Teipai  UV0150C1   0.0657      U  60.370755  6.204965  \n",
       "577    Daan   Teipai  UV0150C1   0.0000      U  69.828688  8.056646  \n",
       "578    Daan   Teipai  UV0150C1   0.0000      U  71.755578  0.883727  \n",
       "579    Daan   Teipai  UV0150C1   0.0000      U  51.716580  3.597427  \n",
       "580    Daan   Teipai  UV0150C1   0.0000      U  41.040880  4.684620  \n",
       "581    Daan   Teipai  UV0150C1   1.0000      U   9.255937  7.609841  \n",
       "582    Daan   Teipai  UV0150C1   1.0000      U   8.726877  4.377506  \n",
       "583    Daan   Teipai  UV0150C1   0.0000      U  47.065538  0.356540  \n",
       "584    Daan   Teipai  UV0150C1   0.0000      U  31.374524  1.294783  \n",
       "585    Daan   Teipai  UV0150C1   1.0000      U   2.406561  7.871659  \n",
       "586    Daan   Teipai  UV0150C1   0.3906      U  35.068465  8.471149  \n",
       "587    Daan   Teipai  UV0150C1   1.0000      U   8.323017  3.582221  \n",
       "588    Daan   Teipai  UV0150C1   0.0000      U  76.268053  8.956132  \n",
       "589    Daan   Teipai  UV0150C1   0.0000      U  43.240155  1.155375  \n",
       "590    Daan   Teipai  UV0150C1   1.0000      U  18.806160  9.404988  \n",
       "591    Daan   Teipai  UV0150C1   1.0000      U   3.008037  8.126565  \n",
       "592    Daan   Teipai  UV0150C1   0.0000      U  59.184543  3.086794  \n",
       "593    Daan   Teipai  UV0150C1   1.0000      U  17.413226  5.759523  \n",
       "594    Daan   Teipai  UV0150C1   0.3341      U  38.961897  7.682922  \n",
       "595    Daan   Teipai  UV0150C1   0.0000      U  67.341692  2.286811  \n",
       "596    Daan   Teipai  UV0150C1   0.1721      U  51.128874  6.193482  \n",
       "597    Daan   Teipai  UV0150C1   0.3320      U  36.735163  5.781888  \n",
       "598    Daan   Teipai  UV0150C1   1.0000      U   9.190307  5.576215  \n",
       "599    Daan   Teipai  UV0150C1   0.0000      U  76.029371  2.407189  "
      ]
     },
     "execution_count": 40,
     "metadata": {},
     "output_type": "execute_result"
    }
   ],
   "source": [
    "testcsv.ix[(testcsv.sortby==3)&(testcsv.weekday==3)]"
   ]
  },
  {
   "cell_type": "code",
   "execution_count": null,
   "metadata": {
    "collapsed": true
   },
   "outputs": [],
   "source": []
  },
  {
   "cell_type": "code",
   "execution_count": null,
   "metadata": {
    "collapsed": true
   },
   "outputs": [],
   "source": []
  },
  {
   "cell_type": "code",
   "execution_count": null,
   "metadata": {
    "collapsed": true
   },
   "outputs": [],
   "source": []
  },
  {
   "cell_type": "code",
   "execution_count": null,
   "metadata": {
    "collapsed": true
   },
   "outputs": [],
   "source": [
    "vd_jamp_template.to_csv('cj20170227.csv',index=False)\n"
   ]
  },
  {
   "cell_type": "code",
   "execution_count": null,
   "metadata": {
    "collapsed": true
   },
   "outputs": [],
   "source": [
    "# 只有星期跟時間，只是用來把塞車率的各個時間塞進去。\n",
    "\n"
   ]
  },
  {
   "cell_type": "code",
   "execution_count": null,
   "metadata": {
    "collapsed": true
   },
   "outputs": [],
   "source": [
    "vd_jamp_template"
   ]
  },
  {
   "cell_type": "code",
   "execution_count": null,
   "metadata": {
    "collapsed": true
   },
   "outputs": [],
   "source": []
  },
  {
   "cell_type": "code",
   "execution_count": null,
   "metadata": {
    "collapsed": true
   },
   "outputs": [],
   "source": []
  },
  {
   "cell_type": "code",
   "execution_count": null,
   "metadata": {
    "collapsed": true
   },
   "outputs": [],
   "source": []
  },
  {
   "cell_type": "code",
   "execution_count": null,
   "metadata": {
    "collapsed": true
   },
   "outputs": [],
   "source": []
  },
  {
   "cell_type": "code",
   "execution_count": null,
   "metadata": {
    "collapsed": true
   },
   "outputs": [],
   "source": []
  },
  {
   "cell_type": "code",
   "execution_count": null,
   "metadata": {
    "collapsed": true
   },
   "outputs": [],
   "source": []
  },
  {
   "cell_type": "code",
   "execution_count": null,
   "metadata": {
    "collapsed": true
   },
   "outputs": [],
   "source": []
  }
 ],
 "metadata": {
  "anaconda-cloud": {},
  "kernelspec": {
   "display_name": "Python [Root]",
   "language": "python",
   "name": "Python [Root]"
  },
  "language_info": {
   "codemirror_mode": {
    "name": "ipython",
    "version": 2
   },
   "file_extension": ".py",
   "mimetype": "text/x-python",
   "name": "python",
   "nbconvert_exporter": "python",
   "pygments_lexer": "ipython2",
   "version": "2.7.12"
  }
 },
 "nbformat": 4,
 "nbformat_minor": 0
}
